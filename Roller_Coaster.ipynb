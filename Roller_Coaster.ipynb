{
  "nbformat": 4,
  "nbformat_minor": 0,
  "metadata": {
    "colab": {
      "name": "Roller_Coaster.ipynb",
      "provenance": [],
      "collapsed_sections": [],
      "include_colab_link": true
    },
    "kernelspec": {
      "name": "python3",
      "display_name": "Python 3"
    }
  },
  "cells": [
    {
      "cell_type": "markdown",
      "metadata": {
        "id": "view-in-github",
        "colab_type": "text"
      },
      "source": [
        "<a href=\"https://colab.research.google.com/github/princeKike27/Roller-Coaster/blob/main/Roller_Coaster.ipynb\" target=\"_parent\"><img src=\"https://colab.research.google.com/assets/colab-badge.svg\" alt=\"Open In Colab\"/></a>"
      ]
    },
    {
      "cell_type": "code",
      "metadata": {
        "id": "0M5hqYozj5tC"
      },
      "source": [
        "# import packages\r\n",
        "import pandas as pd\r\n",
        "import matplotlib.pyplot as plt"
      ],
      "execution_count": 1,
      "outputs": []
    },
    {
      "cell_type": "code",
      "metadata": {
        "id": "ZmjFsfLTmDUs"
      },
      "source": [
        "# load data\r\n",
        "roller_coasters = 'https://raw.githubusercontent.com/princeKike27/Roller-Coaster/main/roller_coasters.csv'\r\n",
        "steel_winners = 'https://raw.githubusercontent.com/princeKike27/Roller-Coaster/main/Golden_Ticket_Award_Winners_Steel.csv'\r\n",
        "wood_winners = 'https://raw.githubusercontent.com/princeKike27/Roller-Coaster/main/Golden_Ticket_Award_Winners_Wood.csv'\r\n",
        "\r\n",
        "df_coasters = pd.read_csv(roller_coasters)\r\n",
        "df_steel = pd.read_csv(steel_winners)\r\n",
        "df_wood = pd.read_csv(wood_winners)"
      ],
      "execution_count": 2,
      "outputs": []
    },
    {
      "cell_type": "markdown",
      "metadata": {
        "id": "oQoEjCDiZizm"
      },
      "source": [
        "# Roller Coasters Ranking per Category - Steel / Wood"
      ]
    },
    {
      "cell_type": "code",
      "metadata": {
        "colab": {
          "base_uri": "https://localhost:8080/",
          "height": 206
        },
        "id": "JTYRznTCm3NX",
        "outputId": "65f89405-1cbe-4291-98b2-604bc34aa9a7"
      },
      "source": [
        "# steel gold winners\r\n",
        "df_steel.head()"
      ],
      "execution_count": 3,
      "outputs": [
        {
          "output_type": "execute_result",
          "data": {
            "text/html": [
              "<div>\n",
              "<style scoped>\n",
              "    .dataframe tbody tr th:only-of-type {\n",
              "        vertical-align: middle;\n",
              "    }\n",
              "\n",
              "    .dataframe tbody tr th {\n",
              "        vertical-align: top;\n",
              "    }\n",
              "\n",
              "    .dataframe thead th {\n",
              "        text-align: right;\n",
              "    }\n",
              "</style>\n",
              "<table border=\"1\" class=\"dataframe\">\n",
              "  <thead>\n",
              "    <tr style=\"text-align: right;\">\n",
              "      <th></th>\n",
              "      <th>Rank</th>\n",
              "      <th>Name</th>\n",
              "      <th>Park</th>\n",
              "      <th>Location</th>\n",
              "      <th>Supplier</th>\n",
              "      <th>Year Built</th>\n",
              "      <th>Points</th>\n",
              "      <th>Year of Rank</th>\n",
              "    </tr>\n",
              "  </thead>\n",
              "  <tbody>\n",
              "    <tr>\n",
              "      <th>0</th>\n",
              "      <td>1</td>\n",
              "      <td>Millennium Force</td>\n",
              "      <td>Cedar Point</td>\n",
              "      <td>Sandusky, Ohio</td>\n",
              "      <td>Intamin</td>\n",
              "      <td>2000</td>\n",
              "      <td>1204</td>\n",
              "      <td>2013</td>\n",
              "    </tr>\n",
              "    <tr>\n",
              "      <th>1</th>\n",
              "      <td>2</td>\n",
              "      <td>Bizarro</td>\n",
              "      <td>Six Flags New England</td>\n",
              "      <td>Agawam, Mass.</td>\n",
              "      <td>Intamin</td>\n",
              "      <td>2000</td>\n",
              "      <td>1011</td>\n",
              "      <td>2013</td>\n",
              "    </tr>\n",
              "    <tr>\n",
              "      <th>2</th>\n",
              "      <td>3</td>\n",
              "      <td>Expedition GeForce</td>\n",
              "      <td>Holiday Park</td>\n",
              "      <td>Hassloch, Germany</td>\n",
              "      <td>Intamin</td>\n",
              "      <td>2001</td>\n",
              "      <td>598</td>\n",
              "      <td>2013</td>\n",
              "    </tr>\n",
              "    <tr>\n",
              "      <th>3</th>\n",
              "      <td>4</td>\n",
              "      <td>Nitro</td>\n",
              "      <td>Six Flags Great Adventure</td>\n",
              "      <td>Jackson, N.J.</td>\n",
              "      <td>B&amp;M</td>\n",
              "      <td>2001</td>\n",
              "      <td>596</td>\n",
              "      <td>2013</td>\n",
              "    </tr>\n",
              "    <tr>\n",
              "      <th>4</th>\n",
              "      <td>5</td>\n",
              "      <td>Apollo’s Chariot</td>\n",
              "      <td>Busch Gardens Williamsburg</td>\n",
              "      <td>Williamsburg, Va.</td>\n",
              "      <td>B&amp;M</td>\n",
              "      <td>1999</td>\n",
              "      <td>542</td>\n",
              "      <td>2013</td>\n",
              "    </tr>\n",
              "  </tbody>\n",
              "</table>\n",
              "</div>"
            ],
            "text/plain": [
              "   Rank                Name  ... Points Year of Rank\n",
              "0     1    Millennium Force  ...   1204         2013\n",
              "1     2             Bizarro  ...   1011         2013\n",
              "2     3  Expedition GeForce  ...    598         2013\n",
              "3     4               Nitro  ...    596         2013\n",
              "4     5    Apollo’s Chariot  ...    542         2013\n",
              "\n",
              "[5 rows x 8 columns]"
            ]
          },
          "metadata": {
            "tags": []
          },
          "execution_count": 3
        }
      ]
    },
    {
      "cell_type": "code",
      "metadata": {
        "colab": {
          "base_uri": "https://localhost:8080/",
          "height": 206
        },
        "id": "5XGHWCxPnFgu",
        "outputId": "beb32ff9-c66d-4582-bfd7-878b6e9efa57"
      },
      "source": [
        "# wooden gold winners\r\n",
        "df_wood.head()"
      ],
      "execution_count": 4,
      "outputs": [
        {
          "output_type": "execute_result",
          "data": {
            "text/html": [
              "<div>\n",
              "<style scoped>\n",
              "    .dataframe tbody tr th:only-of-type {\n",
              "        vertical-align: middle;\n",
              "    }\n",
              "\n",
              "    .dataframe tbody tr th {\n",
              "        vertical-align: top;\n",
              "    }\n",
              "\n",
              "    .dataframe thead th {\n",
              "        text-align: right;\n",
              "    }\n",
              "</style>\n",
              "<table border=\"1\" class=\"dataframe\">\n",
              "  <thead>\n",
              "    <tr style=\"text-align: right;\">\n",
              "      <th></th>\n",
              "      <th>Rank</th>\n",
              "      <th>Name</th>\n",
              "      <th>Park</th>\n",
              "      <th>Location</th>\n",
              "      <th>Supplier</th>\n",
              "      <th>Year Built</th>\n",
              "      <th>Points</th>\n",
              "      <th>Year of Rank</th>\n",
              "    </tr>\n",
              "  </thead>\n",
              "  <tbody>\n",
              "    <tr>\n",
              "      <th>0</th>\n",
              "      <td>1</td>\n",
              "      <td>Boulder Dash</td>\n",
              "      <td>Lake Compounce</td>\n",
              "      <td>Bristol, Conn.</td>\n",
              "      <td>CCI</td>\n",
              "      <td>2000</td>\n",
              "      <td>1333</td>\n",
              "      <td>2013</td>\n",
              "    </tr>\n",
              "    <tr>\n",
              "      <th>1</th>\n",
              "      <td>2</td>\n",
              "      <td>El Toro</td>\n",
              "      <td>Six Flags Great Adventure</td>\n",
              "      <td>Jackson, N.J.</td>\n",
              "      <td>Intamin</td>\n",
              "      <td>2006</td>\n",
              "      <td>1302</td>\n",
              "      <td>2013</td>\n",
              "    </tr>\n",
              "    <tr>\n",
              "      <th>2</th>\n",
              "      <td>3</td>\n",
              "      <td>Phoenix</td>\n",
              "      <td>Knoebels Amusement Resort</td>\n",
              "      <td>Elysburg, Pa.</td>\n",
              "      <td>Dinn/PTC-Schmeck</td>\n",
              "      <td>1985</td>\n",
              "      <td>1088</td>\n",
              "      <td>2013</td>\n",
              "    </tr>\n",
              "    <tr>\n",
              "      <th>3</th>\n",
              "      <td>4</td>\n",
              "      <td>The Voyage</td>\n",
              "      <td>Holiday World</td>\n",
              "      <td>Santa Claus, Ind.</td>\n",
              "      <td>Gravity Group</td>\n",
              "      <td>2006</td>\n",
              "      <td>1086</td>\n",
              "      <td>2013</td>\n",
              "    </tr>\n",
              "    <tr>\n",
              "      <th>4</th>\n",
              "      <td>5</td>\n",
              "      <td>Thunderhead</td>\n",
              "      <td>Dollywood</td>\n",
              "      <td>Pigeon Forge, Tenn.</td>\n",
              "      <td>GCII</td>\n",
              "      <td>2004</td>\n",
              "      <td>923</td>\n",
              "      <td>2013</td>\n",
              "    </tr>\n",
              "  </tbody>\n",
              "</table>\n",
              "</div>"
            ],
            "text/plain": [
              "   Rank          Name  ... Points Year of Rank\n",
              "0     1  Boulder Dash  ...   1333         2013\n",
              "1     2       El Toro  ...   1302         2013\n",
              "2     3       Phoenix  ...   1088         2013\n",
              "3     4    The Voyage  ...   1086         2013\n",
              "4     5   Thunderhead  ...    923         2013\n",
              "\n",
              "[5 rows x 8 columns]"
            ]
          },
          "metadata": {
            "tags": []
          },
          "execution_count": 4
        }
      ]
    },
    {
      "cell_type": "code",
      "metadata": {
        "colab": {
          "base_uri": "https://localhost:8080/"
        },
        "id": "vng7qzVpoFKY",
        "outputId": "9ef22e1f-9373-4a69-94bc-7c9ae027afdb"
      },
      "source": [
        "# number of rollercoasters in each ranking dataset\r\n",
        "wood_winners_count = len(df_wood['Name'])\r\n",
        "steel_winners_count = len(df_steel['Name'])\r\n",
        "\r\n",
        "print(f'Number of Roller-Coasters in Gold Wood Award Winners: {wood_winners_count}')\r\n",
        "print(f'Number of Roller-Coasters in Gold Steel Award Winners: {steel_winners_count}')\r\n"
      ],
      "execution_count": 5,
      "outputs": [
        {
          "output_type": "stream",
          "text": [
            "Number of Roller-Coasters in Gold Wood Award Winners: 180\n",
            "Number of Roller-Coasters in Gold Steel Award Winners: 180\n"
          ],
          "name": "stdout"
        }
      ]
    },
    {
      "cell_type": "code",
      "metadata": {
        "id": "NQjL56oOpeby"
      },
      "source": [
        "# Avg points scored per supplier in each year\r\n",
        "wood_suppliers = df_wood.groupby(['Supplier', 'Year of Rank']).Points.mean().reset_index()\r\n",
        "wood_suppliers_pivot = wood_suppliers.pivot(\r\n",
        "    index = 'Supplier',\r\n",
        "    columns = 'Year of Rank',\r\n",
        "    values = 'Points'\r\n",
        ").reset_index().rename_axis(None,axis=1)\r\n",
        "\r\n",
        "\r\n",
        "steel_suppliers = df_steel.groupby(['Supplier', 'Year of Rank']).Points.mean().reset_index()\r\n",
        "steel_suppliers_pivot = steel_suppliers.pivot(\r\n",
        "    index='Supplier',\r\n",
        "    columns = 'Year of Rank',\r\n",
        "    values = 'Points'\r\n",
        ").reset_index().rename_axis(None, axis=1)"
      ],
      "execution_count": 6,
      "outputs": []
    },
    {
      "cell_type": "code",
      "metadata": {
        "colab": {
          "base_uri": "https://localhost:8080/",
          "height": 162
        },
        "id": "CuLCwuvTteq7",
        "outputId": "f039e278-08b2-47c2-a0c8-8dd3fae5c194"
      },
      "source": [
        "print('Wood Category Awards Avg Points Scored per Supplier')\r\n",
        "wood_suppliers_pivot.head(3)"
      ],
      "execution_count": 7,
      "outputs": [
        {
          "output_type": "stream",
          "text": [
            "Wood Category Awards Avg Points Scored per Supplier\n"
          ],
          "name": "stdout"
        },
        {
          "output_type": "execute_result",
          "data": {
            "text/html": [
              "<div>\n",
              "<style scoped>\n",
              "    .dataframe tbody tr th:only-of-type {\n",
              "        vertical-align: middle;\n",
              "    }\n",
              "\n",
              "    .dataframe tbody tr th {\n",
              "        vertical-align: top;\n",
              "    }\n",
              "\n",
              "    .dataframe thead th {\n",
              "        text-align: right;\n",
              "    }\n",
              "</style>\n",
              "<table border=\"1\" class=\"dataframe\">\n",
              "  <thead>\n",
              "    <tr style=\"text-align: right;\">\n",
              "      <th></th>\n",
              "      <th>Supplier</th>\n",
              "      <th>2013</th>\n",
              "      <th>2014</th>\n",
              "      <th>2015</th>\n",
              "      <th>2016</th>\n",
              "      <th>2017</th>\n",
              "      <th>2018</th>\n",
              "    </tr>\n",
              "  </thead>\n",
              "  <tbody>\n",
              "    <tr>\n",
              "      <th>0</th>\n",
              "      <td>Allen/PTC</td>\n",
              "      <td>NaN</td>\n",
              "      <td>NaN</td>\n",
              "      <td>NaN</td>\n",
              "      <td>NaN</td>\n",
              "      <td>NaN</td>\n",
              "      <td>117.0</td>\n",
              "    </tr>\n",
              "    <tr>\n",
              "      <th>1</th>\n",
              "      <td>CCI</td>\n",
              "      <td>818.5</td>\n",
              "      <td>1480.0</td>\n",
              "      <td>1625.0</td>\n",
              "      <td>NaN</td>\n",
              "      <td>NaN</td>\n",
              "      <td>NaN</td>\n",
              "    </tr>\n",
              "    <tr>\n",
              "      <th>2</th>\n",
              "      <td>Custom Coasters</td>\n",
              "      <td>NaN</td>\n",
              "      <td>NaN</td>\n",
              "      <td>NaN</td>\n",
              "      <td>283.333333</td>\n",
              "      <td>310.0</td>\n",
              "      <td>285.0</td>\n",
              "    </tr>\n",
              "  </tbody>\n",
              "</table>\n",
              "</div>"
            ],
            "text/plain": [
              "          Supplier   2013    2014    2015        2016   2017   2018\n",
              "0        Allen/PTC    NaN     NaN     NaN         NaN    NaN  117.0\n",
              "1              CCI  818.5  1480.0  1625.0         NaN    NaN    NaN\n",
              "2  Custom Coasters    NaN     NaN     NaN  283.333333  310.0  285.0"
            ]
          },
          "metadata": {
            "tags": []
          },
          "execution_count": 7
        }
      ]
    },
    {
      "cell_type": "code",
      "metadata": {
        "colab": {
          "base_uri": "https://localhost:8080/",
          "height": 225
        },
        "id": "kXP3a1ObtopE",
        "outputId": "7759de2a-9c25-42fe-acad-e74dc144b77b"
      },
      "source": [
        "print('Steel Category Awards Avg Points Scored per Supplier')\r\n",
        "steel_suppliers_pivot.head()"
      ],
      "execution_count": 8,
      "outputs": [
        {
          "output_type": "stream",
          "text": [
            "Steel Category Awards Avg Points Scored per Supplier\n"
          ],
          "name": "stdout"
        },
        {
          "output_type": "execute_result",
          "data": {
            "text/html": [
              "<div>\n",
              "<style scoped>\n",
              "    .dataframe tbody tr th:only-of-type {\n",
              "        vertical-align: middle;\n",
              "    }\n",
              "\n",
              "    .dataframe tbody tr th {\n",
              "        vertical-align: top;\n",
              "    }\n",
              "\n",
              "    .dataframe thead th {\n",
              "        text-align: right;\n",
              "    }\n",
              "</style>\n",
              "<table border=\"1\" class=\"dataframe\">\n",
              "  <thead>\n",
              "    <tr style=\"text-align: right;\">\n",
              "      <th></th>\n",
              "      <th>Supplier</th>\n",
              "      <th>2013</th>\n",
              "      <th>2014</th>\n",
              "      <th>2015</th>\n",
              "      <th>2016</th>\n",
              "      <th>2017</th>\n",
              "      <th>2018</th>\n",
              "    </tr>\n",
              "  </thead>\n",
              "  <tbody>\n",
              "    <tr>\n",
              "      <th>0</th>\n",
              "      <td>Arrow</td>\n",
              "      <td>416.00</td>\n",
              "      <td>NaN</td>\n",
              "      <td>NaN</td>\n",
              "      <td>240.500000</td>\n",
              "      <td>227.500000</td>\n",
              "      <td>231.0</td>\n",
              "    </tr>\n",
              "    <tr>\n",
              "      <th>1</th>\n",
              "      <td>B&amp;M</td>\n",
              "      <td>527.50</td>\n",
              "      <td>489.166667</td>\n",
              "      <td>561.666667</td>\n",
              "      <td>251.045455</td>\n",
              "      <td>277.473684</td>\n",
              "      <td>257.9</td>\n",
              "    </tr>\n",
              "    <tr>\n",
              "      <th>2</th>\n",
              "      <td>Chance</td>\n",
              "      <td>NaN</td>\n",
              "      <td>NaN</td>\n",
              "      <td>NaN</td>\n",
              "      <td>90.000000</td>\n",
              "      <td>78.000000</td>\n",
              "      <td>NaN</td>\n",
              "    </tr>\n",
              "    <tr>\n",
              "      <th>3</th>\n",
              "      <td>Intamin</td>\n",
              "      <td>806.25</td>\n",
              "      <td>984.000000</td>\n",
              "      <td>949.333333</td>\n",
              "      <td>435.500000</td>\n",
              "      <td>451.000000</td>\n",
              "      <td>393.0</td>\n",
              "    </tr>\n",
              "    <tr>\n",
              "      <th>4</th>\n",
              "      <td>Lagoon</td>\n",
              "      <td>NaN</td>\n",
              "      <td>NaN</td>\n",
              "      <td>NaN</td>\n",
              "      <td>92.000000</td>\n",
              "      <td>163.000000</td>\n",
              "      <td>92.0</td>\n",
              "    </tr>\n",
              "  </tbody>\n",
              "</table>\n",
              "</div>"
            ],
            "text/plain": [
              "  Supplier    2013        2014        2015        2016        2017   2018\n",
              "0    Arrow  416.00         NaN         NaN  240.500000  227.500000  231.0\n",
              "1      B&M  527.50  489.166667  561.666667  251.045455  277.473684  257.9\n",
              "2   Chance     NaN         NaN         NaN   90.000000   78.000000    NaN\n",
              "3  Intamin  806.25  984.000000  949.333333  435.500000  451.000000  393.0\n",
              "4   Lagoon     NaN         NaN         NaN   92.000000  163.000000   92.0"
            ]
          },
          "metadata": {
            "tags": []
          },
          "execution_count": 8
        }
      ]
    },
    {
      "cell_type": "code",
      "metadata": {
        "id": "6bFs76cruUxa"
      },
      "source": [
        "# function to plot ranking of a given Roller Coaster over the years \r\n",
        "def roller_coaster_ranking(coaster, dataset, parkname):\r\n",
        "  # find coaster in dataset\r\n",
        "  coaster_info = dataset[(dataset['Name'] == coaster) & (dataset['Park'] == parkname)]\r\n",
        "  # x values\r\n",
        "  year_labels = coaster_info['Year of Rank'].values\r\n",
        "  # y values\r\n",
        "  ranking = coaster_info['Rank'].values\r\n",
        "\r\n",
        "  # plot line-graph\r\n",
        "  ax = plt.subplot()\r\n",
        "  plt.plot(year_labels, ranking, color='crimson')\r\n",
        "  # y axis inverted since a rank of 1 is better than 3\r\n",
        "  ax.invert_yaxis()\r\n",
        "  plt.xlabel('Year')\r\n",
        "  plt.ylabel('Ranking')\r\n",
        "  plt.title(f'{coaster} Rankings in {parkname}')\r\n",
        "\r\n",
        "  plt.show()\r\n",
        "\r\n",
        "  return (year_labels, ranking)\r\n"
      ],
      "execution_count": 9,
      "outputs": []
    },
    {
      "cell_type": "code",
      "metadata": {
        "colab": {
          "base_uri": "https://localhost:8080/",
          "height": 313
        },
        "id": "3oduNv8hwgth",
        "outputId": "ba74231e-d562-4e87-9e69-e66d01493612"
      },
      "source": [
        "# check function with 'El Toro' Roller Coaster in 'Six Flags Great Adventure'\r\n",
        "roller_coaster_ranking('El Toro', df_wood, 'Six Flags Great Adventure')"
      ],
      "execution_count": 10,
      "outputs": [
        {
          "output_type": "display_data",
          "data": {
            "image/png": "[encoded data removed]",
            "text/plain": [
              "<Figure size 432x288 with 1 Axes>"
            ]
          },
          "metadata": {
            "tags": [],
            "needs_background": "light"
          }
        },
        {
          "output_type": "execute_result",
          "data": {
            "text/plain": [
              "(array([2013, 2014, 2015, 2016, 2017, 2018]), array([2, 2, 2, 3, 1, 2]))"
            ]
          },
          "metadata": {
            "tags": []
          },
          "execution_count": 10
        }
      ]
    },
    {
      "cell_type": "code",
      "metadata": {
        "colab": {
          "base_uri": "https://localhost:8080/",
          "height": 300
        },
        "id": "eMwWkSAuw_d5",
        "outputId": "cab69e7b-2730-4e8f-d4b1-ec39cea5d78d"
      },
      "source": [
        "# check validity of graph\r\n",
        "df_wood[df_wood['Name'] == 'El Toro']"
      ],
      "execution_count": 11,
      "outputs": [
        {
          "output_type": "execute_result",
          "data": {
            "text/html": [
              "<div>\n",
              "<style scoped>\n",
              "    .dataframe tbody tr th:only-of-type {\n",
              "        vertical-align: middle;\n",
              "    }\n",
              "\n",
              "    .dataframe tbody tr th {\n",
              "        vertical-align: top;\n",
              "    }\n",
              "\n",
              "    .dataframe thead th {\n",
              "        text-align: right;\n",
              "    }\n",
              "</style>\n",
              "<table border=\"1\" class=\"dataframe\">\n",
              "  <thead>\n",
              "    <tr style=\"text-align: right;\">\n",
              "      <th></th>\n",
              "      <th>Rank</th>\n",
              "      <th>Name</th>\n",
              "      <th>Park</th>\n",
              "      <th>Location</th>\n",
              "      <th>Supplier</th>\n",
              "      <th>Year Built</th>\n",
              "      <th>Points</th>\n",
              "      <th>Year of Rank</th>\n",
              "    </tr>\n",
              "  </thead>\n",
              "  <tbody>\n",
              "    <tr>\n",
              "      <th>1</th>\n",
              "      <td>2</td>\n",
              "      <td>El Toro</td>\n",
              "      <td>Six Flags Great Adventure</td>\n",
              "      <td>Jackson, N.J.</td>\n",
              "      <td>Intamin</td>\n",
              "      <td>2006</td>\n",
              "      <td>1302</td>\n",
              "      <td>2013</td>\n",
              "    </tr>\n",
              "    <tr>\n",
              "      <th>11</th>\n",
              "      <td>2</td>\n",
              "      <td>El Toro</td>\n",
              "      <td>Six Flags Great Adventure</td>\n",
              "      <td>Jackson, N.J.</td>\n",
              "      <td>Intamin</td>\n",
              "      <td>2006</td>\n",
              "      <td>1291</td>\n",
              "      <td>2014</td>\n",
              "    </tr>\n",
              "    <tr>\n",
              "      <th>21</th>\n",
              "      <td>2</td>\n",
              "      <td>El Toro</td>\n",
              "      <td>Six Flags Great Adventure</td>\n",
              "      <td>Jackson, N.J.</td>\n",
              "      <td>Intamin</td>\n",
              "      <td>2006</td>\n",
              "      <td>1464</td>\n",
              "      <td>2015</td>\n",
              "    </tr>\n",
              "    <tr>\n",
              "      <th>32</th>\n",
              "      <td>3</td>\n",
              "      <td>El Toro</td>\n",
              "      <td>Six Flags Great Adventure</td>\n",
              "      <td>Jackson, N.J.</td>\n",
              "      <td>Intamin</td>\n",
              "      <td>2006</td>\n",
              "      <td>1121</td>\n",
              "      <td>2016</td>\n",
              "    </tr>\n",
              "    <tr>\n",
              "      <th>55</th>\n",
              "      <td>25</td>\n",
              "      <td>El Toro</td>\n",
              "      <td>Freitzeitpark Plohn</td>\n",
              "      <td>Legendfeld, Germany</td>\n",
              "      <td>Great Coasters Int.</td>\n",
              "      <td>2009</td>\n",
              "      <td>166</td>\n",
              "      <td>2016</td>\n",
              "    </tr>\n",
              "    <tr>\n",
              "      <th>80</th>\n",
              "      <td>1</td>\n",
              "      <td>El Toro</td>\n",
              "      <td>Six Flags Great Adventure</td>\n",
              "      <td>Jackson, N.J.</td>\n",
              "      <td>Intamin</td>\n",
              "      <td>2009</td>\n",
              "      <td>1241</td>\n",
              "      <td>2017</td>\n",
              "    </tr>\n",
              "    <tr>\n",
              "      <th>120</th>\n",
              "      <td>41</td>\n",
              "      <td>El Toro</td>\n",
              "      <td>Freitzeitpark Plohn</td>\n",
              "      <td>Legendfeld, Germany</td>\n",
              "      <td>Great Coasters Int.</td>\n",
              "      <td>2006</td>\n",
              "      <td>92</td>\n",
              "      <td>2017</td>\n",
              "    </tr>\n",
              "    <tr>\n",
              "      <th>131</th>\n",
              "      <td>2</td>\n",
              "      <td>El Toro</td>\n",
              "      <td>Six Flags Great Adventure</td>\n",
              "      <td>Jackson, N.J.</td>\n",
              "      <td>Intamin</td>\n",
              "      <td>2006</td>\n",
              "      <td>1197</td>\n",
              "      <td>2018</td>\n",
              "    </tr>\n",
              "  </tbody>\n",
              "</table>\n",
              "</div>"
            ],
            "text/plain": [
              "     Rank     Name                       Park  ... Year Built Points  Year of Rank\n",
              "1       2  El Toro  Six Flags Great Adventure  ...       2006   1302          2013\n",
              "11      2  El Toro  Six Flags Great Adventure  ...       2006   1291          2014\n",
              "21      2  El Toro  Six Flags Great Adventure  ...       2006   1464          2015\n",
              "32      3  El Toro  Six Flags Great Adventure  ...       2006   1121          2016\n",
              "55     25  El Toro        Freitzeitpark Plohn  ...       2009    166          2016\n",
              "80      1  El Toro  Six Flags Great Adventure  ...       2009   1241          2017\n",
              "120    41  El Toro        Freitzeitpark Plohn  ...       2006     92          2017\n",
              "131     2  El Toro  Six Flags Great Adventure  ...       2006   1197          2018\n",
              "\n",
              "[8 rows x 8 columns]"
            ]
          },
          "metadata": {
            "tags": []
          },
          "execution_count": 11
        }
      ]
    },
    {
      "cell_type": "markdown",
      "metadata": {
        "id": "ErL6N-yCaBQf"
      },
      "source": [
        "# Roller Coaster Statistics"
      ]
    },
    {
      "cell_type": "code",
      "metadata": {
        "colab": {
          "base_uri": "https://localhost:8080/",
          "height": 206
        },
        "id": "VHWX7K07aHgF",
        "outputId": "13b3d966-ae96-48b2-bb55-6902d6c253bf"
      },
      "source": [
        "# inspect dataframe\r\n",
        "df_coasters.head()"
      ],
      "execution_count": 12,
      "outputs": [
        {
          "output_type": "execute_result",
          "data": {
            "text/html": [
              "<div>\n",
              "<style scoped>\n",
              "    .dataframe tbody tr th:only-of-type {\n",
              "        vertical-align: middle;\n",
              "    }\n",
              "\n",
              "    .dataframe tbody tr th {\n",
              "        vertical-align: top;\n",
              "    }\n",
              "\n",
              "    .dataframe thead th {\n",
              "        text-align: right;\n",
              "    }\n",
              "</style>\n",
              "<table border=\"1\" class=\"dataframe\">\n",
              "  <thead>\n",
              "    <tr style=\"text-align: right;\">\n",
              "      <th></th>\n",
              "      <th>name</th>\n",
              "      <th>material_type</th>\n",
              "      <th>seating_type</th>\n",
              "      <th>speed</th>\n",
              "      <th>height</th>\n",
              "      <th>length</th>\n",
              "      <th>num_inversions</th>\n",
              "      <th>manufacturer</th>\n",
              "      <th>park</th>\n",
              "      <th>status</th>\n",
              "    </tr>\n",
              "  </thead>\n",
              "  <tbody>\n",
              "    <tr>\n",
              "      <th>0</th>\n",
              "      <td>Goudurix</td>\n",
              "      <td>Steel</td>\n",
              "      <td>Sit Down</td>\n",
              "      <td>75.0</td>\n",
              "      <td>37.0</td>\n",
              "      <td>950.0</td>\n",
              "      <td>7.0</td>\n",
              "      <td>Vekoma</td>\n",
              "      <td>Parc Asterix</td>\n",
              "      <td>status.operating</td>\n",
              "    </tr>\n",
              "    <tr>\n",
              "      <th>1</th>\n",
              "      <td>Dream catcher</td>\n",
              "      <td>Steel</td>\n",
              "      <td>Suspended</td>\n",
              "      <td>45.0</td>\n",
              "      <td>25.0</td>\n",
              "      <td>600.0</td>\n",
              "      <td>0.0</td>\n",
              "      <td>Vekoma</td>\n",
              "      <td>Bobbejaanland</td>\n",
              "      <td>status.operating</td>\n",
              "    </tr>\n",
              "    <tr>\n",
              "      <th>2</th>\n",
              "      <td>Alucinakis</td>\n",
              "      <td>Steel</td>\n",
              "      <td>Sit Down</td>\n",
              "      <td>30.0</td>\n",
              "      <td>8.0</td>\n",
              "      <td>250.0</td>\n",
              "      <td>0.0</td>\n",
              "      <td>Zamperla</td>\n",
              "      <td>Terra Mítica</td>\n",
              "      <td>status.operating</td>\n",
              "    </tr>\n",
              "    <tr>\n",
              "      <th>3</th>\n",
              "      <td>Anaconda</td>\n",
              "      <td>Wooden</td>\n",
              "      <td>Sit Down</td>\n",
              "      <td>85.0</td>\n",
              "      <td>35.0</td>\n",
              "      <td>1200.0</td>\n",
              "      <td>0.0</td>\n",
              "      <td>William J. Cobb</td>\n",
              "      <td>Walygator Parc</td>\n",
              "      <td>status.operating</td>\n",
              "    </tr>\n",
              "    <tr>\n",
              "      <th>4</th>\n",
              "      <td>Azteka</td>\n",
              "      <td>Steel</td>\n",
              "      <td>Sit Down</td>\n",
              "      <td>55.0</td>\n",
              "      <td>17.0</td>\n",
              "      <td>500.0</td>\n",
              "      <td>0.0</td>\n",
              "      <td>Soquet</td>\n",
              "      <td>Le Pal</td>\n",
              "      <td>status.operating</td>\n",
              "    </tr>\n",
              "  </tbody>\n",
              "</table>\n",
              "</div>"
            ],
            "text/plain": [
              "            name material_type  ...            park            status\n",
              "0       Goudurix         Steel  ...    Parc Asterix  status.operating\n",
              "1  Dream catcher         Steel  ...   Bobbejaanland  status.operating\n",
              "2     Alucinakis         Steel  ...    Terra Mítica  status.operating\n",
              "3       Anaconda        Wooden  ...  Walygator Parc  status.operating\n",
              "4         Azteka         Steel  ...          Le Pal  status.operating\n",
              "\n",
              "[5 rows x 10 columns]"
            ]
          },
          "metadata": {
            "tags": []
          },
          "execution_count": 12
        }
      ]
    },
    {
      "cell_type": "code",
      "metadata": {
        "colab": {
          "base_uri": "https://localhost:8080/"
        },
        "id": "9KX1xcNAaSu0",
        "outputId": "6d8dcaa5-1f3c-4836-a244-0385dfeb36e0"
      },
      "source": [
        "# check column types\r\n",
        "df_coasters.dtypes"
      ],
      "execution_count": 13,
      "outputs": [
        {
          "output_type": "execute_result",
          "data": {
            "text/plain": [
              "name               object\n",
              "material_type      object\n",
              "seating_type       object\n",
              "speed             float64\n",
              "height            float64\n",
              "length            float64\n",
              "num_inversions    float64\n",
              "manufacturer       object\n",
              "park               object\n",
              "status             object\n",
              "dtype: object"
            ]
          },
          "metadata": {
            "tags": []
          },
          "execution_count": 13
        }
      ]
    },
    {
      "cell_type": "markdown",
      "metadata": {
        "id": "eSp6dwXFcAJH"
      },
      "source": [
        "# Speed, Height, Length & Inversions Histograms"
      ]
    },
    {
      "cell_type": "code",
      "metadata": {
        "id": "koza5b-KaXhm"
      },
      "source": [
        "# function that plots a histogram for each numeric column in df\r\n",
        "def plot_histogram(df):\r\n",
        "  # store columns names\r\n",
        "  columns = df.columns\r\n",
        "\r\n",
        "  plt.figure(figsize=(25,5))\r\n",
        "  # column position of graph\r\n",
        "  fig_pos = 1\r\n",
        "\r\n",
        "  for column in columns:\r\n",
        "    # check if column is numeric\r\n",
        "    if df.dtypes[column] == 'float64':\r\n",
        "      # plot histogram\r\n",
        "      \r\n",
        "      ax = plt.subplot(1, 4, fig_pos)\r\n",
        "\r\n",
        "      plt.hist(df[column], bins=10, color='purple')\r\n",
        "      plt.ylabel('Frequency')\r\n",
        "      plt.xlabel(column)\r\n",
        "      plt.title(f'Roller Coaster\\'s {column}')\r\n",
        "      fig_pos += 1\r\n",
        "  plt.show()\r\n",
        "\r\n"
      ],
      "execution_count": 14,
      "outputs": []
    },
    {
      "cell_type": "code",
      "metadata": {
        "colab": {
          "base_uri": "https://localhost:8080/",
          "height": 328
        },
        "id": "X3w2bm47bVxv",
        "outputId": "b6e46d26-96c9-4a49-a61c-e05475f901f7"
      },
      "source": [
        "# test function\r\n",
        "coasters_hist = plot_histogram(df_coasters)"
      ],
      "execution_count": 15,
      "outputs": [
        {
          "output_type": "display_data",
          "data": {
            "image/png": "[encoded data removed]",
            "text/plain": [
              "<Figure size 1800x360 with 4 Axes>"
            ]
          },
          "metadata": {
            "tags": [],
            "needs_background": "light"
          }
        }
      ]
    },
    {
      "cell_type": "markdown",
      "metadata": {
        "id": "QFWg4XSud8g2"
      },
      "source": [
        "# Status of Roller Coasters"
      ]
    },
    {
      "cell_type": "code",
      "metadata": {
        "colab": {
          "base_uri": "https://localhost:8080/",
          "height": 332
        },
        "id": "b8iWc2j9b731",
        "outputId": "4dd6f8e9-d236-4c2a-fb70-4236204d43c6"
      },
      "source": [
        "# group by status of Roller Coaster\r\n",
        "coaster_status = df_coasters.groupby('status').name.count().reset_index()\r\n",
        "coaster_status.rename(columns={'name': 'count'}, inplace=True)\r\n",
        "coaster_status"
      ],
      "execution_count": 16,
      "outputs": [
        {
          "output_type": "execute_result",
          "data": {
            "text/html": [
              "<div>\n",
              "<style scoped>\n",
              "    .dataframe tbody tr th:only-of-type {\n",
              "        vertical-align: middle;\n",
              "    }\n",
              "\n",
              "    .dataframe tbody tr th {\n",
              "        vertical-align: top;\n",
              "    }\n",
              "\n",
              "    .dataframe thead th {\n",
              "        text-align: right;\n",
              "    }\n",
              "</style>\n",
              "<table border=\"1\" class=\"dataframe\">\n",
              "  <thead>\n",
              "    <tr style=\"text-align: right;\">\n",
              "      <th></th>\n",
              "      <th>status</th>\n",
              "      <th>count</th>\n",
              "    </tr>\n",
              "  </thead>\n",
              "  <tbody>\n",
              "    <tr>\n",
              "      <th>0</th>\n",
              "      <td>status.announced</td>\n",
              "      <td>39</td>\n",
              "    </tr>\n",
              "    <tr>\n",
              "      <th>1</th>\n",
              "      <td>status.closed.definitely</td>\n",
              "      <td>439</td>\n",
              "    </tr>\n",
              "    <tr>\n",
              "      <th>2</th>\n",
              "      <td>status.closed.temporarily</td>\n",
              "      <td>25</td>\n",
              "    </tr>\n",
              "    <tr>\n",
              "      <th>3</th>\n",
              "      <td>status.construction</td>\n",
              "      <td>41</td>\n",
              "    </tr>\n",
              "    <tr>\n",
              "      <th>4</th>\n",
              "      <td>status.operating</td>\n",
              "      <td>2172</td>\n",
              "    </tr>\n",
              "    <tr>\n",
              "      <th>5</th>\n",
              "      <td>status.relocated</td>\n",
              "      <td>22</td>\n",
              "    </tr>\n",
              "    <tr>\n",
              "      <th>6</th>\n",
              "      <td>status.retracked</td>\n",
              "      <td>16</td>\n",
              "    </tr>\n",
              "    <tr>\n",
              "      <th>7</th>\n",
              "      <td>status.rumored</td>\n",
              "      <td>11</td>\n",
              "    </tr>\n",
              "    <tr>\n",
              "      <th>8</th>\n",
              "      <td>status.unknown</td>\n",
              "      <td>34</td>\n",
              "    </tr>\n",
              "  </tbody>\n",
              "</table>\n",
              "</div>"
            ],
            "text/plain": [
              "                      status  count\n",
              "0           status.announced     39\n",
              "1   status.closed.definitely    439\n",
              "2  status.closed.temporarily     25\n",
              "3        status.construction     41\n",
              "4           status.operating   2172\n",
              "5           status.relocated     22\n",
              "6           status.retracked     16\n",
              "7             status.rumored     11\n",
              "8             status.unknown     34"
            ]
          },
          "metadata": {
            "tags": []
          },
          "execution_count": 16
        }
      ]
    },
    {
      "cell_type": "code",
      "metadata": {
        "id": "I2DmHrJgd_c_"
      },
      "source": [
        "# function that plots a pie graph comparing number of operating and closed roller coasters\r\n",
        "def coaster_status_pie(df):\r\n",
        "  # store status of roller coaster\r\n",
        "  status = [df.loc[1, 'status'], df.loc[4, 'status']]\r\n",
        "  # store values\r\n",
        "  values = [df.loc[1, 'count'], df.loc[4, 'count']]\r\n",
        "\r\n",
        "  # plot pie\r\n",
        "  plt.figure(figsize=(10, 8))\r\n",
        "  ax = plt.subplot()\r\n",
        "\r\n",
        "  plt.pie(values, labels=status, autopct='%0.2f%%') \r\n",
        "  plt.axis('equal')\r\n",
        "\r\n",
        "  plt.title('Roller Coasters Operating Vs Roller Coasters Closed')\r\n",
        "  plt.show()\r\n",
        "\r\n",
        "  return (status, values)\r\n",
        "  "
      ],
      "execution_count": 17,
      "outputs": []
    },
    {
      "cell_type": "code",
      "metadata": {
        "colab": {
          "base_uri": "https://localhost:8080/",
          "height": 500
        },
        "id": "FAoHCvUdfuXV",
        "outputId": "c2903264-c51f-4862-87a2-64b1c6783840"
      },
      "source": [
        "# test function\r\n",
        "pie_status = coaster_status_pie(coaster_status)\r\n",
        "pie_status\r\n"
      ],
      "execution_count": 18,
      "outputs": [
        {
          "output_type": "display_data",
          "data": {
            "image/png": "[encoded data removed]",
            "text/plain": [
              "<Figure size 720x576 with 1 Axes>"
            ]
          },
          "metadata": {
            "tags": []
          }
        },
        {
          "output_type": "execute_result",
          "data": {
            "text/plain": [
              "(['status.closed.definitely', 'status.operating'], [439, 2172])"
            ]
          },
          "metadata": {
            "tags": []
          },
          "execution_count": 18
        }
      ]
    },
    {
      "cell_type": "markdown",
      "metadata": {
        "id": "jrmiD7i7lOvQ"
      },
      "source": [
        "# Does Speed Affect the Length of a Roller Coaster?"
      ]
    },
    {
      "cell_type": "code",
      "metadata": {
        "id": "C4NkSrHqlOR_"
      },
      "source": [
        "# function that plots a scatter plot of two numeric columns\r\n",
        "def coaster_scatter(df, xcol, ycol):\r\n",
        "  # save values of columns in lists\r\n",
        "  xlst = df[xcol]\r\n",
        "  ylst = df[ycol]\r\n",
        "\r\n",
        "  # plot scatter plot\r\n",
        "  plt.figure(figsize=(12, 8))\r\n",
        "  ax = plt.subplot()\r\n",
        "\r\n",
        "  plt.scatter(x=xlst, y=ylst, color='crimson')\r\n",
        "\r\n",
        "  plt.xlabel(xcol)\r\n",
        "  plt.ylabel(ycol)\r\n",
        "  plt.title(f'Roller Coasters {xcol} Vs {ycol}')\r\n",
        "  plt.show()"
      ],
      "execution_count": 19,
      "outputs": []
    },
    {
      "cell_type": "code",
      "metadata": {
        "colab": {
          "base_uri": "https://localhost:8080/",
          "height": 513
        },
        "id": "tcwS7K5HmShy",
        "outputId": "d5302f24-d639-4bf0-db09-c63911587bd0"
      },
      "source": [
        "# test function\r\n",
        "speed_inversions = coaster_scatter(df_coasters, 'speed', 'length')"
      ],
      "execution_count": 20,
      "outputs": [
        {
          "output_type": "display_data",
          "data": {
            "image/png": "[encoded data removed]",
            "text/plain": [
              "<Figure size 864x576 with 1 Axes>"
            ]
          },
          "metadata": {
            "tags": [],
            "needs_background": "light"
          }
        }
      ]
    },
    {
      "cell_type": "markdown",
      "metadata": {
        "id": "vY9jY6BWdpBh"
      },
      "source": [
        "# Which Roller Coaster Seating type is more popular?\r\n",
        "* Do they have an effect on the speed, height and length?"
      ]
    },
    {
      "cell_type": "code",
      "metadata": {
        "id": "Z5J9A-HcdthT"
      },
      "source": [
        "# function to get avg_speed, avg_length and avg_height\r\n",
        "def seating_params(df):\r\n",
        "  calc ={}\r\n",
        "  calc['count'] = df['name'].count()\r\n",
        "  calc['avg_speed'] = df['speed'].mean()\r\n",
        "  calc['avg_length'] = df['length'].mean()\r\n",
        "  calc['avg_height'] = df['height'].mean()\r\n",
        "  return pd.Series(calc, index=['count', 'avg_speed', 'avg_length', 'avg_height'])\r\n"
      ],
      "execution_count": 21,
      "outputs": []
    },
    {
      "cell_type": "code",
      "metadata": {
        "colab": {
          "base_uri": "https://localhost:8080/",
          "height": 520
        },
        "id": "sub8kAIkh1rf",
        "outputId": "b587a1d8-bcf5-478e-f5f2-7eccfa691064"
      },
      "source": [
        "# group by seating type\r\n",
        "seating_type = df_coasters.groupby('seating_type').apply(seating_params).reset_index()\r\n",
        "seating_type.sort_values(by='count', ascending=False, inplace=True)\r\n",
        "seating_type"
      ],
      "execution_count": 22,
      "outputs": [
        {
          "output_type": "execute_result",
          "data": {
            "text/html": [
              "<div>\n",
              "<style scoped>\n",
              "    .dataframe tbody tr th:only-of-type {\n",
              "        vertical-align: middle;\n",
              "    }\n",
              "\n",
              "    .dataframe tbody tr th {\n",
              "        vertical-align: top;\n",
              "    }\n",
              "\n",
              "    .dataframe thead th {\n",
              "        text-align: right;\n",
              "    }\n",
              "</style>\n",
              "<table border=\"1\" class=\"dataframe\">\n",
              "  <thead>\n",
              "    <tr style=\"text-align: right;\">\n",
              "      <th></th>\n",
              "      <th>seating_type</th>\n",
              "      <th>count</th>\n",
              "      <th>avg_speed</th>\n",
              "      <th>avg_length</th>\n",
              "      <th>avg_height</th>\n",
              "    </tr>\n",
              "  </thead>\n",
              "  <tbody>\n",
              "    <tr>\n",
              "      <th>8</th>\n",
              "      <td>Sit Down</td>\n",
              "      <td>2214.0</td>\n",
              "      <td>69.758865</td>\n",
              "      <td>596.763449</td>\n",
              "      <td>26.264180</td>\n",
              "    </tr>\n",
              "    <tr>\n",
              "      <th>9</th>\n",
              "      <td>Spinning</td>\n",
              "      <td>150.0</td>\n",
              "      <td>50.060606</td>\n",
              "      <td>386.177215</td>\n",
              "      <td>14.939759</td>\n",
              "    </tr>\n",
              "    <tr>\n",
              "      <th>5</th>\n",
              "      <td>Inverted</td>\n",
              "      <td>122.0</td>\n",
              "      <td>80.054545</td>\n",
              "      <td>707.027523</td>\n",
              "      <td>33.178571</td>\n",
              "    </tr>\n",
              "    <tr>\n",
              "      <th>11</th>\n",
              "      <td>Suspended</td>\n",
              "      <td>55.0</td>\n",
              "      <td>53.966667</td>\n",
              "      <td>472.314286</td>\n",
              "      <td>20.344828</td>\n",
              "    </tr>\n",
              "    <tr>\n",
              "      <th>1</th>\n",
              "      <td>Alpine</td>\n",
              "      <td>43.0</td>\n",
              "      <td>38.333333</td>\n",
              "      <td>864.050000</td>\n",
              "      <td>25.000000</td>\n",
              "    </tr>\n",
              "    <tr>\n",
              "      <th>14</th>\n",
              "      <td>na</td>\n",
              "      <td>40.0</td>\n",
              "      <td>NaN</td>\n",
              "      <td>628.000000</td>\n",
              "      <td>19.000000</td>\n",
              "    </tr>\n",
              "    <tr>\n",
              "      <th>12</th>\n",
              "      <td>Water Coaster</td>\n",
              "      <td>29.0</td>\n",
              "      <td>76.050000</td>\n",
              "      <td>497.611111</td>\n",
              "      <td>30.347826</td>\n",
              "    </tr>\n",
              "    <tr>\n",
              "      <th>3</th>\n",
              "      <td>Floorless</td>\n",
              "      <td>27.0</td>\n",
              "      <td>98.208333</td>\n",
              "      <td>943.520000</td>\n",
              "      <td>45.538462</td>\n",
              "    </tr>\n",
              "    <tr>\n",
              "      <th>4</th>\n",
              "      <td>Flying</td>\n",
              "      <td>27.0</td>\n",
              "      <td>70.125000</td>\n",
              "      <td>733.041667</td>\n",
              "      <td>29.720000</td>\n",
              "    </tr>\n",
              "    <tr>\n",
              "      <th>6</th>\n",
              "      <td>Motorbike</td>\n",
              "      <td>21.0</td>\n",
              "      <td>71.400000</td>\n",
              "      <td>549.200000</td>\n",
              "      <td>16.583333</td>\n",
              "    </tr>\n",
              "    <tr>\n",
              "      <th>10</th>\n",
              "      <td>Stand Up</td>\n",
              "      <td>20.0</td>\n",
              "      <td>86.000000</td>\n",
              "      <td>862.105263</td>\n",
              "      <td>34.150000</td>\n",
              "    </tr>\n",
              "    <tr>\n",
              "      <th>0</th>\n",
              "      <td>4th Dimension</td>\n",
              "      <td>18.0</td>\n",
              "      <td>67.352941</td>\n",
              "      <td>382.562500</td>\n",
              "      <td>38.555556</td>\n",
              "    </tr>\n",
              "    <tr>\n",
              "      <th>13</th>\n",
              "      <td>Wing</td>\n",
              "      <td>17.0</td>\n",
              "      <td>95.166667</td>\n",
              "      <td>846.500000</td>\n",
              "      <td>41.714286</td>\n",
              "    </tr>\n",
              "    <tr>\n",
              "      <th>2</th>\n",
              "      <td>Bobsleigh</td>\n",
              "      <td>11.0</td>\n",
              "      <td>54.111111</td>\n",
              "      <td>583.000000</td>\n",
              "      <td>21.000000</td>\n",
              "    </tr>\n",
              "    <tr>\n",
              "      <th>7</th>\n",
              "      <td>Pipeline</td>\n",
              "      <td>5.0</td>\n",
              "      <td>70.666667</td>\n",
              "      <td>402.000000</td>\n",
              "      <td>30.750000</td>\n",
              "    </tr>\n",
              "  </tbody>\n",
              "</table>\n",
              "</div>"
            ],
            "text/plain": [
              "     seating_type   count  avg_speed  avg_length  avg_height\n",
              "8        Sit Down  2214.0  69.758865  596.763449   26.264180\n",
              "9        Spinning   150.0  50.060606  386.177215   14.939759\n",
              "5        Inverted   122.0  80.054545  707.027523   33.178571\n",
              "11      Suspended    55.0  53.966667  472.314286   20.344828\n",
              "1          Alpine    43.0  38.333333  864.050000   25.000000\n",
              "14             na    40.0        NaN  628.000000   19.000000\n",
              "12  Water Coaster    29.0  76.050000  497.611111   30.347826\n",
              "3       Floorless    27.0  98.208333  943.520000   45.538462\n",
              "4          Flying    27.0  70.125000  733.041667   29.720000\n",
              "6       Motorbike    21.0  71.400000  549.200000   16.583333\n",
              "10       Stand Up    20.0  86.000000  862.105263   34.150000\n",
              "0   4th Dimension    18.0  67.352941  382.562500   38.555556\n",
              "13           Wing    17.0  95.166667  846.500000   41.714286\n",
              "2       Bobsleigh    11.0  54.111111  583.000000   21.000000\n",
              "7        Pipeline     5.0  70.666667  402.000000   30.750000"
            ]
          },
          "metadata": {
            "tags": []
          },
          "execution_count": 22
        }
      ]
    },
    {
      "cell_type": "code",
      "metadata": {
        "colab": {
          "base_uri": "https://localhost:8080/",
          "height": 206
        },
        "id": "iTEqhD2wkWoe",
        "outputId": "4033fca5-8956-4427-9ce5-535aa57a718d"
      },
      "source": [
        "# get 5 most common roller coaster seating types\r\n",
        "top_5_seating = seating_type.nlargest(5, columns='count')\r\n",
        "top_5_seating"
      ],
      "execution_count": 23,
      "outputs": [
        {
          "output_type": "execute_result",
          "data": {
            "text/html": [
              "<div>\n",
              "<style scoped>\n",
              "    .dataframe tbody tr th:only-of-type {\n",
              "        vertical-align: middle;\n",
              "    }\n",
              "\n",
              "    .dataframe tbody tr th {\n",
              "        vertical-align: top;\n",
              "    }\n",
              "\n",
              "    .dataframe thead th {\n",
              "        text-align: right;\n",
              "    }\n",
              "</style>\n",
              "<table border=\"1\" class=\"dataframe\">\n",
              "  <thead>\n",
              "    <tr style=\"text-align: right;\">\n",
              "      <th></th>\n",
              "      <th>seating_type</th>\n",
              "      <th>count</th>\n",
              "      <th>avg_speed</th>\n",
              "      <th>avg_length</th>\n",
              "      <th>avg_height</th>\n",
              "    </tr>\n",
              "  </thead>\n",
              "  <tbody>\n",
              "    <tr>\n",
              "      <th>8</th>\n",
              "      <td>Sit Down</td>\n",
              "      <td>2214.0</td>\n",
              "      <td>69.758865</td>\n",
              "      <td>596.763449</td>\n",
              "      <td>26.264180</td>\n",
              "    </tr>\n",
              "    <tr>\n",
              "      <th>9</th>\n",
              "      <td>Spinning</td>\n",
              "      <td>150.0</td>\n",
              "      <td>50.060606</td>\n",
              "      <td>386.177215</td>\n",
              "      <td>14.939759</td>\n",
              "    </tr>\n",
              "    <tr>\n",
              "      <th>5</th>\n",
              "      <td>Inverted</td>\n",
              "      <td>122.0</td>\n",
              "      <td>80.054545</td>\n",
              "      <td>707.027523</td>\n",
              "      <td>33.178571</td>\n",
              "    </tr>\n",
              "    <tr>\n",
              "      <th>11</th>\n",
              "      <td>Suspended</td>\n",
              "      <td>55.0</td>\n",
              "      <td>53.966667</td>\n",
              "      <td>472.314286</td>\n",
              "      <td>20.344828</td>\n",
              "    </tr>\n",
              "    <tr>\n",
              "      <th>1</th>\n",
              "      <td>Alpine</td>\n",
              "      <td>43.0</td>\n",
              "      <td>38.333333</td>\n",
              "      <td>864.050000</td>\n",
              "      <td>25.000000</td>\n",
              "    </tr>\n",
              "  </tbody>\n",
              "</table>\n",
              "</div>"
            ],
            "text/plain": [
              "   seating_type   count  avg_speed  avg_length  avg_height\n",
              "8      Sit Down  2214.0  69.758865  596.763449   26.264180\n",
              "9      Spinning   150.0  50.060606  386.177215   14.939759\n",
              "5      Inverted   122.0  80.054545  707.027523   33.178571\n",
              "11    Suspended    55.0  53.966667  472.314286   20.344828\n",
              "1        Alpine    43.0  38.333333  864.050000   25.000000"
            ]
          },
          "metadata": {
            "tags": []
          },
          "execution_count": 23
        }
      ]
    },
    {
      "cell_type": "code",
      "metadata": {
        "id": "HQMS1-IDlUYW"
      },
      "source": [
        "import seaborn as sns\r\n",
        "\r\n",
        "# function to plot seating types\r\n",
        "def seating_plot(df):\r\n",
        "  # store y values of charts\r\n",
        "  y_col = df.columns[1::]\r\n",
        "  # number of columns to have in each row\r\n",
        "  fig_col = 4\r\n",
        "  # column position of graph\r\n",
        "  fig_pos = 1\r\n",
        "  \r\n",
        "  plt.figure(figsize=(25, 4))\r\n",
        "\r\n",
        "  for col in y_col:\r\n",
        "    ax = plt.subplot(1, fig_col, fig_pos)\r\n",
        "    sns.barplot(data=df, x='seating_type', y=col)\r\n",
        "\r\n",
        "    plt.title(f'Roller Coasters {col} by Seating Type')\r\n",
        "    fig_pos +=1\r\n",
        "\r\n",
        "  plt.show()\r\n",
        "    \r\n",
        "\r\n"
      ],
      "execution_count": 24,
      "outputs": []
    },
    {
      "cell_type": "code",
      "metadata": {
        "id": "xvtBddwKm8E6",
        "colab": {
          "base_uri": "https://localhost:8080/",
          "height": 276
        },
        "outputId": "4d3fd8ac-5e1c-400d-8a04-d23476078ced"
      },
      "source": [
        "top_5_seating_plot = seating_plot(top_5_seating)"
      ],
      "execution_count": 25,
      "outputs": [
        {
          "output_type": "display_data",
          "data": {
            "image/png": "[encoded data removed]",
            "text/plain": [
              "<Figure size 1800x288 with 4 Axes>"
            ]
          },
          "metadata": {
            "tags": [],
            "needs_background": "light"
          }
        }
      ]
    }
  ]
}