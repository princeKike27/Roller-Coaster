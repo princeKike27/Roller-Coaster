{
  "nbformat": 4,
  "nbformat_minor": 0,
  "metadata": {
    "colab": {
      "name": "Roller_Coaster.ipynb",
      "provenance": [],
      "collapsed_sections": [],
      "authorship_tag": "ABX9TyNhf1303aMZ1pUy+xmy57fc",
      "include_colab_link": true
    },
    "kernelspec": {
      "name": "python3",
      "display_name": "Python 3"
    }
  },
  "cells": [
    {
      "cell_type": "markdown",
      "metadata": {
        "id": "view-in-github",
        "colab_type": "text"
      },
      "source": [
        "<a href=\"https://colab.research.google.com/github/princeKike27/Roller-Coaster/blob/main/Roller_Coaster.ipynb\" target=\"_parent\"><img src=\"https://colab.research.google.com/assets/colab-badge.svg\" alt=\"Open In Colab\"/></a>"
      ]
    },
    {
      "cell_type": "code",
      "metadata": {
        "id": "0M5hqYozj5tC"
      },
      "source": [
        "# import packages\r\n",
        "import pandas as pd\r\n",
        "import matplotlib.pyplot as plt"
      ],
      "execution_count": 1,
      "outputs": []
    },
    {
      "cell_type": "code",
      "metadata": {
        "id": "ZmjFsfLTmDUs"
      },
      "source": [
        "# load data\r\n",
        "roller_coasters = 'https://raw.githubusercontent.com/princeKike27/Roller-Coaster/main/roller_coasters.csv'\r\n",
        "steel_winners = 'https://raw.githubusercontent.com/princeKike27/Roller-Coaster/main/Golden_Ticket_Award_Winners_Steel.csv'\r\n",
        "wood_winners = 'https://raw.githubusercontent.com/princeKike27/Roller-Coaster/main/Golden_Ticket_Award_Winners_Wood.csv'\r\n",
        "\r\n",
        "df_coasters = pd.read_csv(roller_coasters)\r\n",
        "df_steel = pd.read_csv(steel_winners)\r\n",
        "df_wood = pd.read_csv(wood_winners)"
      ],
      "execution_count": 2,
      "outputs": []
    },
    {
      "cell_type": "code",
      "metadata": {
        "colab": {
          "base_uri": "https://localhost:8080/",
          "height": 206
        },
        "id": "noGab5YgmxC5",
        "outputId": "19ff2044-755c-45f9-9502-2efdf32e9f23"
      },
      "source": [
        "# roller coasters\r\n",
        "df_coasters.head()"
      ],
      "execution_count": 3,
      "outputs": [
        {
          "output_type": "execute_result",
          "data": {
            "text/html": [
              "<div>\n",
              "<style scoped>\n",
              "    .dataframe tbody tr th:only-of-type {\n",
              "        vertical-align: middle;\n",
              "    }\n",
              "\n",
              "    .dataframe tbody tr th {\n",
              "        vertical-align: top;\n",
              "    }\n",
              "\n",
              "    .dataframe thead th {\n",
              "        text-align: right;\n",
              "    }\n",
              "</style>\n",
              "<table border=\"1\" class=\"dataframe\">\n",
              "  <thead>\n",
              "    <tr style=\"text-align: right;\">\n",
              "      <th></th>\n",
              "      <th>name</th>\n",
              "      <th>material_type</th>\n",
              "      <th>seating_type</th>\n",
              "      <th>speed</th>\n",
              "      <th>height</th>\n",
              "      <th>length</th>\n",
              "      <th>num_inversions</th>\n",
              "      <th>manufacturer</th>\n",
              "      <th>park</th>\n",
              "      <th>status</th>\n",
              "    </tr>\n",
              "  </thead>\n",
              "  <tbody>\n",
              "    <tr>\n",
              "      <th>0</th>\n",
              "      <td>Goudurix</td>\n",
              "      <td>Steel</td>\n",
              "      <td>Sit Down</td>\n",
              "      <td>75.0</td>\n",
              "      <td>37.0</td>\n",
              "      <td>950.0</td>\n",
              "      <td>7.0</td>\n",
              "      <td>Vekoma</td>\n",
              "      <td>Parc Asterix</td>\n",
              "      <td>status.operating</td>\n",
              "    </tr>\n",
              "    <tr>\n",
              "      <th>1</th>\n",
              "      <td>Dream catcher</td>\n",
              "      <td>Steel</td>\n",
              "      <td>Suspended</td>\n",
              "      <td>45.0</td>\n",
              "      <td>25.0</td>\n",
              "      <td>600.0</td>\n",
              "      <td>0.0</td>\n",
              "      <td>Vekoma</td>\n",
              "      <td>Bobbejaanland</td>\n",
              "      <td>status.operating</td>\n",
              "    </tr>\n",
              "    <tr>\n",
              "      <th>2</th>\n",
              "      <td>Alucinakis</td>\n",
              "      <td>Steel</td>\n",
              "      <td>Sit Down</td>\n",
              "      <td>30.0</td>\n",
              "      <td>8.0</td>\n",
              "      <td>250.0</td>\n",
              "      <td>0.0</td>\n",
              "      <td>Zamperla</td>\n",
              "      <td>Terra Mítica</td>\n",
              "      <td>status.operating</td>\n",
              "    </tr>\n",
              "    <tr>\n",
              "      <th>3</th>\n",
              "      <td>Anaconda</td>\n",
              "      <td>Wooden</td>\n",
              "      <td>Sit Down</td>\n",
              "      <td>85.0</td>\n",
              "      <td>35.0</td>\n",
              "      <td>1200.0</td>\n",
              "      <td>0.0</td>\n",
              "      <td>William J. Cobb</td>\n",
              "      <td>Walygator Parc</td>\n",
              "      <td>status.operating</td>\n",
              "    </tr>\n",
              "    <tr>\n",
              "      <th>4</th>\n",
              "      <td>Azteka</td>\n",
              "      <td>Steel</td>\n",
              "      <td>Sit Down</td>\n",
              "      <td>55.0</td>\n",
              "      <td>17.0</td>\n",
              "      <td>500.0</td>\n",
              "      <td>0.0</td>\n",
              "      <td>Soquet</td>\n",
              "      <td>Le Pal</td>\n",
              "      <td>status.operating</td>\n",
              "    </tr>\n",
              "  </tbody>\n",
              "</table>\n",
              "</div>"
            ],
            "text/plain": [
              "            name material_type  ...            park            status\n",
              "0       Goudurix         Steel  ...    Parc Asterix  status.operating\n",
              "1  Dream catcher         Steel  ...   Bobbejaanland  status.operating\n",
              "2     Alucinakis         Steel  ...    Terra Mítica  status.operating\n",
              "3       Anaconda        Wooden  ...  Walygator Parc  status.operating\n",
              "4         Azteka         Steel  ...          Le Pal  status.operating\n",
              "\n",
              "[5 rows x 10 columns]"
            ]
          },
          "metadata": {
            "tags": []
          },
          "execution_count": 3
        }
      ]
    },
    {
      "cell_type": "code",
      "metadata": {
        "colab": {
          "base_uri": "https://localhost:8080/",
          "height": 206
        },
        "id": "JTYRznTCm3NX",
        "outputId": "78787455-697c-4747-f6ae-4ce98ea38d8c"
      },
      "source": [
        "# steel gold winners\r\n",
        "df_steel.head()"
      ],
      "execution_count": 4,
      "outputs": [
        {
          "output_type": "execute_result",
          "data": {
            "text/html": [
              "<div>\n",
              "<style scoped>\n",
              "    .dataframe tbody tr th:only-of-type {\n",
              "        vertical-align: middle;\n",
              "    }\n",
              "\n",
              "    .dataframe tbody tr th {\n",
              "        vertical-align: top;\n",
              "    }\n",
              "\n",
              "    .dataframe thead th {\n",
              "        text-align: right;\n",
              "    }\n",
              "</style>\n",
              "<table border=\"1\" class=\"dataframe\">\n",
              "  <thead>\n",
              "    <tr style=\"text-align: right;\">\n",
              "      <th></th>\n",
              "      <th>Rank</th>\n",
              "      <th>Name</th>\n",
              "      <th>Park</th>\n",
              "      <th>Location</th>\n",
              "      <th>Supplier</th>\n",
              "      <th>Year Built</th>\n",
              "      <th>Points</th>\n",
              "      <th>Year of Rank</th>\n",
              "    </tr>\n",
              "  </thead>\n",
              "  <tbody>\n",
              "    <tr>\n",
              "      <th>0</th>\n",
              "      <td>1</td>\n",
              "      <td>Millennium Force</td>\n",
              "      <td>Cedar Point</td>\n",
              "      <td>Sandusky, Ohio</td>\n",
              "      <td>Intamin</td>\n",
              "      <td>2000</td>\n",
              "      <td>1204</td>\n",
              "      <td>2013</td>\n",
              "    </tr>\n",
              "    <tr>\n",
              "      <th>1</th>\n",
              "      <td>2</td>\n",
              "      <td>Bizarro</td>\n",
              "      <td>Six Flags New England</td>\n",
              "      <td>Agawam, Mass.</td>\n",
              "      <td>Intamin</td>\n",
              "      <td>2000</td>\n",
              "      <td>1011</td>\n",
              "      <td>2013</td>\n",
              "    </tr>\n",
              "    <tr>\n",
              "      <th>2</th>\n",
              "      <td>3</td>\n",
              "      <td>Expedition GeForce</td>\n",
              "      <td>Holiday Park</td>\n",
              "      <td>Hassloch, Germany</td>\n",
              "      <td>Intamin</td>\n",
              "      <td>2001</td>\n",
              "      <td>598</td>\n",
              "      <td>2013</td>\n",
              "    </tr>\n",
              "    <tr>\n",
              "      <th>3</th>\n",
              "      <td>4</td>\n",
              "      <td>Nitro</td>\n",
              "      <td>Six Flags Great Adventure</td>\n",
              "      <td>Jackson, N.J.</td>\n",
              "      <td>B&amp;M</td>\n",
              "      <td>2001</td>\n",
              "      <td>596</td>\n",
              "      <td>2013</td>\n",
              "    </tr>\n",
              "    <tr>\n",
              "      <th>4</th>\n",
              "      <td>5</td>\n",
              "      <td>Apollo’s Chariot</td>\n",
              "      <td>Busch Gardens Williamsburg</td>\n",
              "      <td>Williamsburg, Va.</td>\n",
              "      <td>B&amp;M</td>\n",
              "      <td>1999</td>\n",
              "      <td>542</td>\n",
              "      <td>2013</td>\n",
              "    </tr>\n",
              "  </tbody>\n",
              "</table>\n",
              "</div>"
            ],
            "text/plain": [
              "   Rank                Name  ... Points Year of Rank\n",
              "0     1    Millennium Force  ...   1204         2013\n",
              "1     2             Bizarro  ...   1011         2013\n",
              "2     3  Expedition GeForce  ...    598         2013\n",
              "3     4               Nitro  ...    596         2013\n",
              "4     5    Apollo’s Chariot  ...    542         2013\n",
              "\n",
              "[5 rows x 8 columns]"
            ]
          },
          "metadata": {
            "tags": []
          },
          "execution_count": 4
        }
      ]
    },
    {
      "cell_type": "code",
      "metadata": {
        "colab": {
          "base_uri": "https://localhost:8080/",
          "height": 206
        },
        "id": "5XGHWCxPnFgu",
        "outputId": "e583be07-d072-41f7-a7ea-4c8eae5043e7"
      },
      "source": [
        "# wooden gold winners\r\n",
        "df_wood.head()"
      ],
      "execution_count": 5,
      "outputs": [
        {
          "output_type": "execute_result",
          "data": {
            "text/html": [
              "<div>\n",
              "<style scoped>\n",
              "    .dataframe tbody tr th:only-of-type {\n",
              "        vertical-align: middle;\n",
              "    }\n",
              "\n",
              "    .dataframe tbody tr th {\n",
              "        vertical-align: top;\n",
              "    }\n",
              "\n",
              "    .dataframe thead th {\n",
              "        text-align: right;\n",
              "    }\n",
              "</style>\n",
              "<table border=\"1\" class=\"dataframe\">\n",
              "  <thead>\n",
              "    <tr style=\"text-align: right;\">\n",
              "      <th></th>\n",
              "      <th>Rank</th>\n",
              "      <th>Name</th>\n",
              "      <th>Park</th>\n",
              "      <th>Location</th>\n",
              "      <th>Supplier</th>\n",
              "      <th>Year Built</th>\n",
              "      <th>Points</th>\n",
              "      <th>Year of Rank</th>\n",
              "    </tr>\n",
              "  </thead>\n",
              "  <tbody>\n",
              "    <tr>\n",
              "      <th>0</th>\n",
              "      <td>1</td>\n",
              "      <td>Boulder Dash</td>\n",
              "      <td>Lake Compounce</td>\n",
              "      <td>Bristol, Conn.</td>\n",
              "      <td>CCI</td>\n",
              "      <td>2000</td>\n",
              "      <td>1333</td>\n",
              "      <td>2013</td>\n",
              "    </tr>\n",
              "    <tr>\n",
              "      <th>1</th>\n",
              "      <td>2</td>\n",
              "      <td>El Toro</td>\n",
              "      <td>Six Flags Great Adventure</td>\n",
              "      <td>Jackson, N.J.</td>\n",
              "      <td>Intamin</td>\n",
              "      <td>2006</td>\n",
              "      <td>1302</td>\n",
              "      <td>2013</td>\n",
              "    </tr>\n",
              "    <tr>\n",
              "      <th>2</th>\n",
              "      <td>3</td>\n",
              "      <td>Phoenix</td>\n",
              "      <td>Knoebels Amusement Resort</td>\n",
              "      <td>Elysburg, Pa.</td>\n",
              "      <td>Dinn/PTC-Schmeck</td>\n",
              "      <td>1985</td>\n",
              "      <td>1088</td>\n",
              "      <td>2013</td>\n",
              "    </tr>\n",
              "    <tr>\n",
              "      <th>3</th>\n",
              "      <td>4</td>\n",
              "      <td>The Voyage</td>\n",
              "      <td>Holiday World</td>\n",
              "      <td>Santa Claus, Ind.</td>\n",
              "      <td>Gravity Group</td>\n",
              "      <td>2006</td>\n",
              "      <td>1086</td>\n",
              "      <td>2013</td>\n",
              "    </tr>\n",
              "    <tr>\n",
              "      <th>4</th>\n",
              "      <td>5</td>\n",
              "      <td>Thunderhead</td>\n",
              "      <td>Dollywood</td>\n",
              "      <td>Pigeon Forge, Tenn.</td>\n",
              "      <td>GCII</td>\n",
              "      <td>2004</td>\n",
              "      <td>923</td>\n",
              "      <td>2013</td>\n",
              "    </tr>\n",
              "  </tbody>\n",
              "</table>\n",
              "</div>"
            ],
            "text/plain": [
              "   Rank          Name  ... Points Year of Rank\n",
              "0     1  Boulder Dash  ...   1333         2013\n",
              "1     2       El Toro  ...   1302         2013\n",
              "2     3       Phoenix  ...   1088         2013\n",
              "3     4    The Voyage  ...   1086         2013\n",
              "4     5   Thunderhead  ...    923         2013\n",
              "\n",
              "[5 rows x 8 columns]"
            ]
          },
          "metadata": {
            "tags": []
          },
          "execution_count": 5
        }
      ]
    },
    {
      "cell_type": "code",
      "metadata": {
        "colab": {
          "base_uri": "https://localhost:8080/"
        },
        "id": "vng7qzVpoFKY",
        "outputId": "c19d837f-2b41-4f68-99a2-2097cceab92f"
      },
      "source": [
        "# number of rollercoasters in each ranking dataset\r\n",
        "wood_winners_count = len(df_wood['Name'])\r\n",
        "steel_winners_count = len(df_steel['Name'])\r\n",
        "\r\n",
        "print(f'Number of Roller-Coasters in Gold Wood Award Winners: {wood_winners_count}')\r\n",
        "print(f'Number of Roller-Coasters in Gold Steel Award Winners: {steel_winners_count}')\r\n"
      ],
      "execution_count": 14,
      "outputs": [
        {
          "output_type": "stream",
          "text": [
            "Number of Roller-Coasters in Gold Wood Award Winners: 180\n",
            "Number of Roller-Coasters in Gold Steel Award Winners: 180\n"
          ],
          "name": "stdout"
        }
      ]
    },
    {
      "cell_type": "code",
      "metadata": {
        "id": "NQjL56oOpeby"
      },
      "source": [
        "# Avg points scored per supplier in each year\r\n",
        "wood_suppliers = df_wood.groupby(['Supplier', 'Year of Rank']).Points.mean().reset_index()\r\n",
        "wood_suppliers_pivot = wood_suppliers.pivot(\r\n",
        "    index = 'Supplier',\r\n",
        "    columns = 'Year of Rank',\r\n",
        "    values = 'Points'\r\n",
        ").reset_index().rename_axis(None,axis=1)\r\n",
        "\r\n",
        "\r\n",
        "steel_suppliers = df_steel.groupby(['Supplier', 'Year of Rank']).Points.mean().reset_index()\r\n",
        "steel_suppliers_pivot = steel_suppliers.pivot(\r\n",
        "    index='Supplier',\r\n",
        "    columns = 'Year of Rank',\r\n",
        "    values = 'Points'\r\n",
        ").reset_index().rename_axis(None, axis=1)"
      ],
      "execution_count": 34,
      "outputs": []
    },
    {
      "cell_type": "code",
      "metadata": {
        "colab": {
          "base_uri": "https://localhost:8080/",
          "height": 162
        },
        "id": "CuLCwuvTteq7",
        "outputId": "7318929f-52bf-431c-ddb9-9031b7b6e54b"
      },
      "source": [
        "print('Wood Category Awards Avg Points Scored per Supplier')\r\n",
        "wood_suppliers_pivot.head(3)"
      ],
      "execution_count": 39,
      "outputs": [
        {
          "output_type": "stream",
          "text": [
            "Wood Category Avg Points Scored per Supplier\n"
          ],
          "name": "stdout"
        },
        {
          "output_type": "execute_result",
          "data": {
            "text/html": [
              "<div>\n",
              "<style scoped>\n",
              "    .dataframe tbody tr th:only-of-type {\n",
              "        vertical-align: middle;\n",
              "    }\n",
              "\n",
              "    .dataframe tbody tr th {\n",
              "        vertical-align: top;\n",
              "    }\n",
              "\n",
              "    .dataframe thead th {\n",
              "        text-align: right;\n",
              "    }\n",
              "</style>\n",
              "<table border=\"1\" class=\"dataframe\">\n",
              "  <thead>\n",
              "    <tr style=\"text-align: right;\">\n",
              "      <th></th>\n",
              "      <th>Supplier</th>\n",
              "      <th>2013</th>\n",
              "      <th>2014</th>\n",
              "      <th>2015</th>\n",
              "      <th>2016</th>\n",
              "      <th>2017</th>\n",
              "      <th>2018</th>\n",
              "    </tr>\n",
              "  </thead>\n",
              "  <tbody>\n",
              "    <tr>\n",
              "      <th>0</th>\n",
              "      <td>Allen/PTC</td>\n",
              "      <td>NaN</td>\n",
              "      <td>NaN</td>\n",
              "      <td>NaN</td>\n",
              "      <td>NaN</td>\n",
              "      <td>NaN</td>\n",
              "      <td>117.0</td>\n",
              "    </tr>\n",
              "    <tr>\n",
              "      <th>1</th>\n",
              "      <td>CCI</td>\n",
              "      <td>818.5</td>\n",
              "      <td>1480.0</td>\n",
              "      <td>1625.0</td>\n",
              "      <td>NaN</td>\n",
              "      <td>NaN</td>\n",
              "      <td>NaN</td>\n",
              "    </tr>\n",
              "    <tr>\n",
              "      <th>2</th>\n",
              "      <td>Custom Coasters</td>\n",
              "      <td>NaN</td>\n",
              "      <td>NaN</td>\n",
              "      <td>NaN</td>\n",
              "      <td>283.333333</td>\n",
              "      <td>310.0</td>\n",
              "      <td>285.0</td>\n",
              "    </tr>\n",
              "  </tbody>\n",
              "</table>\n",
              "</div>"
            ],
            "text/plain": [
              "          Supplier   2013    2014    2015        2016   2017   2018\n",
              "0        Allen/PTC    NaN     NaN     NaN         NaN    NaN  117.0\n",
              "1              CCI  818.5  1480.0  1625.0         NaN    NaN    NaN\n",
              "2  Custom Coasters    NaN     NaN     NaN  283.333333  310.0  285.0"
            ]
          },
          "metadata": {
            "tags": []
          },
          "execution_count": 39
        }
      ]
    },
    {
      "cell_type": "code",
      "metadata": {
        "colab": {
          "base_uri": "https://localhost:8080/",
          "height": 225
        },
        "id": "kXP3a1ObtopE",
        "outputId": "b907ef24-f6b2-43d7-c24f-5f9162d060aa"
      },
      "source": [
        "print('Steel Category Awards Avg Points Scored per Supplier')\r\n",
        "steel_suppliers_pivot.head()"
      ],
      "execution_count": 40,
      "outputs": [
        {
          "output_type": "stream",
          "text": [
            "Steel Category Avg Points Scored per Supplier\n"
          ],
          "name": "stdout"
        },
        {
          "output_type": "execute_result",
          "data": {
            "text/html": [
              "<div>\n",
              "<style scoped>\n",
              "    .dataframe tbody tr th:only-of-type {\n",
              "        vertical-align: middle;\n",
              "    }\n",
              "\n",
              "    .dataframe tbody tr th {\n",
              "        vertical-align: top;\n",
              "    }\n",
              "\n",
              "    .dataframe thead th {\n",
              "        text-align: right;\n",
              "    }\n",
              "</style>\n",
              "<table border=\"1\" class=\"dataframe\">\n",
              "  <thead>\n",
              "    <tr style=\"text-align: right;\">\n",
              "      <th></th>\n",
              "      <th>Supplier</th>\n",
              "      <th>2013</th>\n",
              "      <th>2014</th>\n",
              "      <th>2015</th>\n",
              "      <th>2016</th>\n",
              "      <th>2017</th>\n",
              "      <th>2018</th>\n",
              "    </tr>\n",
              "  </thead>\n",
              "  <tbody>\n",
              "    <tr>\n",
              "      <th>0</th>\n",
              "      <td>Arrow</td>\n",
              "      <td>416.00</td>\n",
              "      <td>NaN</td>\n",
              "      <td>NaN</td>\n",
              "      <td>240.500000</td>\n",
              "      <td>227.500000</td>\n",
              "      <td>231.0</td>\n",
              "    </tr>\n",
              "    <tr>\n",
              "      <th>1</th>\n",
              "      <td>B&amp;M</td>\n",
              "      <td>527.50</td>\n",
              "      <td>489.166667</td>\n",
              "      <td>561.666667</td>\n",
              "      <td>251.045455</td>\n",
              "      <td>277.473684</td>\n",
              "      <td>257.9</td>\n",
              "    </tr>\n",
              "    <tr>\n",
              "      <th>2</th>\n",
              "      <td>Chance</td>\n",
              "      <td>NaN</td>\n",
              "      <td>NaN</td>\n",
              "      <td>NaN</td>\n",
              "      <td>90.000000</td>\n",
              "      <td>78.000000</td>\n",
              "      <td>NaN</td>\n",
              "    </tr>\n",
              "    <tr>\n",
              "      <th>3</th>\n",
              "      <td>Intamin</td>\n",
              "      <td>806.25</td>\n",
              "      <td>984.000000</td>\n",
              "      <td>949.333333</td>\n",
              "      <td>435.500000</td>\n",
              "      <td>451.000000</td>\n",
              "      <td>393.0</td>\n",
              "    </tr>\n",
              "    <tr>\n",
              "      <th>4</th>\n",
              "      <td>Lagoon</td>\n",
              "      <td>NaN</td>\n",
              "      <td>NaN</td>\n",
              "      <td>NaN</td>\n",
              "      <td>92.000000</td>\n",
              "      <td>163.000000</td>\n",
              "      <td>92.0</td>\n",
              "    </tr>\n",
              "  </tbody>\n",
              "</table>\n",
              "</div>"
            ],
            "text/plain": [
              "  Supplier    2013        2014        2015        2016        2017   2018\n",
              "0    Arrow  416.00         NaN         NaN  240.500000  227.500000  231.0\n",
              "1      B&M  527.50  489.166667  561.666667  251.045455  277.473684  257.9\n",
              "2   Chance     NaN         NaN         NaN   90.000000   78.000000    NaN\n",
              "3  Intamin  806.25  984.000000  949.333333  435.500000  451.000000  393.0\n",
              "4   Lagoon     NaN         NaN         NaN   92.000000  163.000000   92.0"
            ]
          },
          "metadata": {
            "tags": []
          },
          "execution_count": 40
        }
      ]
    },
    {
      "cell_type": "code",
      "metadata": {
        "id": "6bFs76cruUxa"
      },
      "source": [
        "# function to plot ranking of a given Roller Coaster over the years \r\n",
        "def roller_coaster_ranking(coaster, dataset, parkname):\r\n",
        "  # find coaster in dataset\r\n",
        "  coaster_info = dataset[(dataset['Name'] == coaster) & (dataset['Park'] == parkname)]\r\n",
        "  # x values\r\n",
        "  year_labels = coaster_info['Year of Rank'].values\r\n",
        "  # y values\r\n",
        "  ranking = coaster_info['Rank'].values\r\n",
        "\r\n",
        "  # plot line-graph\r\n",
        "  ax = plt.subplot()\r\n",
        "  plt.plot(year_labels, ranking, color='crimson')\r\n",
        "  # y axis inverted since a rank of 1 is better than 3\r\n",
        "  ax.invert_yaxis()\r\n",
        "  plt.xlabel('Year')\r\n",
        "  plt.ylabel('Ranking')\r\n",
        "  plt.title(f'{coaster} Rankings in {parkname}')\r\n",
        "\r\n",
        "  plt.show()\r\n",
        "\r\n",
        "  return (year_labels, ranking)\r\n"
      ],
      "execution_count": 71,
      "outputs": []
    },
    {
      "cell_type": "code",
      "metadata": {
        "colab": {
          "base_uri": "https://localhost:8080/",
          "height": 313
        },
        "id": "3oduNv8hwgth",
        "outputId": "82d0fba2-bab5-4097-f1a9-0769015dc849"
      },
      "source": [
        "# check function with 'El Toro' Roller Coaster in 'Six Flags Great Adventure'\r\n",
        "roller_coaster_ranking('El Toro', df_wood, 'Six Flags Great Adventure')"
      ],
      "execution_count": 74,
      "outputs": [
        {
          "output_type": "display_data",
          "data": {
            "image/png": "[encoded data removed]",
            "text/plain": [
              "<Figure size 432x288 with 1 Axes>"
            ]
          },
          "metadata": {
            "tags": [],
            "needs_background": "light"
          }
        },
        {
          "output_type": "execute_result",
          "data": {
            "text/plain": [
              "(array([2013, 2014, 2015, 2016, 2017, 2018]), array([2, 2, 2, 3, 1, 2]))"
            ]
          },
          "metadata": {
            "tags": []
          },
          "execution_count": 74
        }
      ]
    },
    {
      "cell_type": "code",
      "metadata": {
        "colab": {
          "base_uri": "https://localhost:8080/",
          "height": 300
        },
        "id": "eMwWkSAuw_d5",
        "outputId": "005dc64f-ac6e-46a7-ab12-1b66702add99"
      },
      "source": [
        "# check validity of graph\r\n",
        "df_wood[df_wood['Name'] == 'El Toro']"
      ],
      "execution_count": 73,
      "outputs": [
        {
          "output_type": "execute_result",
          "data": {
            "text/html": [
              "<div>\n",
              "<style scoped>\n",
              "    .dataframe tbody tr th:only-of-type {\n",
              "        vertical-align: middle;\n",
              "    }\n",
              "\n",
              "    .dataframe tbody tr th {\n",
              "        vertical-align: top;\n",
              "    }\n",
              "\n",
              "    .dataframe thead th {\n",
              "        text-align: right;\n",
              "    }\n",
              "</style>\n",
              "<table border=\"1\" class=\"dataframe\">\n",
              "  <thead>\n",
              "    <tr style=\"text-align: right;\">\n",
              "      <th></th>\n",
              "      <th>Rank</th>\n",
              "      <th>Name</th>\n",
              "      <th>Park</th>\n",
              "      <th>Location</th>\n",
              "      <th>Supplier</th>\n",
              "      <th>Year Built</th>\n",
              "      <th>Points</th>\n",
              "      <th>Year of Rank</th>\n",
              "    </tr>\n",
              "  </thead>\n",
              "  <tbody>\n",
              "    <tr>\n",
              "      <th>1</th>\n",
              "      <td>2</td>\n",
              "      <td>El Toro</td>\n",
              "      <td>Six Flags Great Adventure</td>\n",
              "      <td>Jackson, N.J.</td>\n",
              "      <td>Intamin</td>\n",
              "      <td>2006</td>\n",
              "      <td>1302</td>\n",
              "      <td>2013</td>\n",
              "    </tr>\n",
              "    <tr>\n",
              "      <th>11</th>\n",
              "      <td>2</td>\n",
              "      <td>El Toro</td>\n",
              "      <td>Six Flags Great Adventure</td>\n",
              "      <td>Jackson, N.J.</td>\n",
              "      <td>Intamin</td>\n",
              "      <td>2006</td>\n",
              "      <td>1291</td>\n",
              "      <td>2014</td>\n",
              "    </tr>\n",
              "    <tr>\n",
              "      <th>21</th>\n",
              "      <td>2</td>\n",
              "      <td>El Toro</td>\n",
              "      <td>Six Flags Great Adventure</td>\n",
              "      <td>Jackson, N.J.</td>\n",
              "      <td>Intamin</td>\n",
              "      <td>2006</td>\n",
              "      <td>1464</td>\n",
              "      <td>2015</td>\n",
              "    </tr>\n",
              "    <tr>\n",
              "      <th>32</th>\n",
              "      <td>3</td>\n",
              "      <td>El Toro</td>\n",
              "      <td>Six Flags Great Adventure</td>\n",
              "      <td>Jackson, N.J.</td>\n",
              "      <td>Intamin</td>\n",
              "      <td>2006</td>\n",
              "      <td>1121</td>\n",
              "      <td>2016</td>\n",
              "    </tr>\n",
              "    <tr>\n",
              "      <th>55</th>\n",
              "      <td>25</td>\n",
              "      <td>El Toro</td>\n",
              "      <td>Freitzeitpark Plohn</td>\n",
              "      <td>Legendfeld, Germany</td>\n",
              "      <td>Great Coasters Int.</td>\n",
              "      <td>2009</td>\n",
              "      <td>166</td>\n",
              "      <td>2016</td>\n",
              "    </tr>\n",
              "    <tr>\n",
              "      <th>80</th>\n",
              "      <td>1</td>\n",
              "      <td>El Toro</td>\n",
              "      <td>Six Flags Great Adventure</td>\n",
              "      <td>Jackson, N.J.</td>\n",
              "      <td>Intamin</td>\n",
              "      <td>2009</td>\n",
              "      <td>1241</td>\n",
              "      <td>2017</td>\n",
              "    </tr>\n",
              "    <tr>\n",
              "      <th>120</th>\n",
              "      <td>41</td>\n",
              "      <td>El Toro</td>\n",
              "      <td>Freitzeitpark Plohn</td>\n",
              "      <td>Legendfeld, Germany</td>\n",
              "      <td>Great Coasters Int.</td>\n",
              "      <td>2006</td>\n",
              "      <td>92</td>\n",
              "      <td>2017</td>\n",
              "    </tr>\n",
              "    <tr>\n",
              "      <th>131</th>\n",
              "      <td>2</td>\n",
              "      <td>El Toro</td>\n",
              "      <td>Six Flags Great Adventure</td>\n",
              "      <td>Jackson, N.J.</td>\n",
              "      <td>Intamin</td>\n",
              "      <td>2006</td>\n",
              "      <td>1197</td>\n",
              "      <td>2018</td>\n",
              "    </tr>\n",
              "  </tbody>\n",
              "</table>\n",
              "</div>"
            ],
            "text/plain": [
              "     Rank     Name                       Park  ... Year Built Points  Year of Rank\n",
              "1       2  El Toro  Six Flags Great Adventure  ...       2006   1302          2013\n",
              "11      2  El Toro  Six Flags Great Adventure  ...       2006   1291          2014\n",
              "21      2  El Toro  Six Flags Great Adventure  ...       2006   1464          2015\n",
              "32      3  El Toro  Six Flags Great Adventure  ...       2006   1121          2016\n",
              "55     25  El Toro        Freitzeitpark Plohn  ...       2009    166          2016\n",
              "80      1  El Toro  Six Flags Great Adventure  ...       2009   1241          2017\n",
              "120    41  El Toro        Freitzeitpark Plohn  ...       2006     92          2017\n",
              "131     2  El Toro  Six Flags Great Adventure  ...       2006   1197          2018\n",
              "\n",
              "[8 rows x 8 columns]"
            ]
          },
          "metadata": {
            "tags": []
          },
          "execution_count": 73
        }
      ]
    }
  ]
}